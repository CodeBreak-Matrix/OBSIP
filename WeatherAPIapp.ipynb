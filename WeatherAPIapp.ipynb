{
  "nbformat": 4,
  "nbformat_minor": 0,
  "metadata": {
    "colab": {
      "provenance": []
    },
    "kernelspec": {
      "name": "python3",
      "display_name": "Python 3"
    },
    "language_info": {
      "name": "python"
    }
  },
  "cells": [
    {
      "cell_type": "markdown",
      "source": [
        "Import Statements"
      ],
      "metadata": {
        "id": "BB-3wP3mVuB8"
      }
    },
    {
      "cell_type": "code",
      "execution_count": 24,
      "metadata": {
        "colab": {
          "base_uri": "https://localhost:8080/"
        },
        "id": "dp5NkTU8uUjL",
        "outputId": "bd61d04e-3fc9-4780-bcc9-ed18a7be2192"
      },
      "outputs": [
        {
          "output_type": "stream",
          "name": "stdout",
          "text": [
            "[40.7608, -111.8911]\n"
          ]
        }
      ],
      "source": [
        "import geocoder\n",
        "from geopy.geocoders import Nominatim\n",
        "import requests"
      ]
    },
    {
      "cell_type": "markdown",
      "source": [
        "Get current location"
      ],
      "metadata": {
        "id": "8vc7zVHiVxjP"
      }
    },
    {
      "cell_type": "code",
      "source": [
        "g = geocoder.ip('me')\n",
        "print(g.latlng)\n",
        "geolocator = Nominatim(user_agent=\"LangLongtoLoc\")\n",
        "location = geolocator.reverse(f\"{g.latlng[0]}, {g.latlng[1]}\")\n",
        "address = location.raw['address']\n",
        "city = address.get(\"city\", \"\")"
      ],
      "metadata": {
        "id": "sNw9FOrlu9qz"
      },
      "execution_count": 26,
      "outputs": []
    },
    {
      "cell_type": "markdown",
      "source": [
        "Query OneWeather API for weather forcast details"
      ],
      "metadata": {
        "id": "EwcdDv5WV0TZ"
      }
    },
    {
      "cell_type": "code",
      "source": [
        "api_key = \"e0a83f91f38f1b726c8c9af771c77501\"\n",
        "request_url = f\"http://api.openweathermap.org/data/2.5/weather?appid={api_key}&q={city}&units=metric\"\n",
        "response = requests.get(request_url)\n",
        "\n",
        "if response.status_code == 200:\n",
        "    data = response.json()\n",
        "    #print(data)\n",
        "    temperature = round(data[\"main\"][\"temp\"] , 2)\n",
        "    pressure = data[\"main\"][\"pressure\"]/1000\n",
        "    humidity = data[\"main\"][\"humidity\"]\n",
        "\n",
        "\n",
        "    print(\"City:\", city)\n",
        "    print(\"Temperature:\", temperature, \"celsius\")\n",
        "    print(\"Pressure: \", pressure, \"bars\")\n",
        "    print(\"Humidity: \", humidity,\"%\")\n",
        "else:\n",
        "    print(\"An error occurred.\")"
      ],
      "metadata": {
        "colab": {
          "base_uri": "https://localhost:8080/"
        },
        "id": "1CrDt40MwaTl",
        "outputId": "2737ea88-5698-47a0-dcba-0dfea0efeea5"
      },
      "execution_count": 35,
      "outputs": [
        {
          "output_type": "stream",
          "name": "stdout",
          "text": [
            "City: Salt Lake City\n",
            "Temperature: 7.53 celsius\n",
            "Pressure:  1.019 bars\n",
            "Humidity:  62 %\n"
          ]
        }
      ]
    },
    {
      "cell_type": "code",
      "source": [],
      "metadata": {
        "id": "r0d2tPKIIy4e"
      },
      "execution_count": null,
      "outputs": []
    }
  ]
}