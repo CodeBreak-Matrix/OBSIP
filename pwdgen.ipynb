{
  "nbformat": 4,
  "nbformat_minor": 0,
  "metadata": {
    "colab": {
      "provenance": []
    },
    "kernelspec": {
      "name": "python3",
      "display_name": "Python 3"
    },
    "language_info": {
      "name": "python"
    }
  },
  "cells": [
    {
      "cell_type": "code",
      "execution_count": 6,
      "metadata": {
        "id": "1vwAA2HpEPw1"
      },
      "outputs": [],
      "source": [
        "import random"
      ]
    },
    {
      "cell_type": "code",
      "source": [
        "sp_chars = [\"$\", \"@\", \"#\", \"%\", \"&\", \"*\", \"!\"]\n",
        "num_sp = len(sp_chars)"
      ],
      "metadata": {
        "id": "1FkmJjWhF7UT"
      },
      "execution_count": 5,
      "outputs": []
    },
    {
      "cell_type": "code",
      "source": [
        "#user req accepted here\n",
        "print(\"Welcome to Password Generator. Our passwords start at length 8 characters.\")\n",
        "size = int(input(\"Enter the upper limit of the length of the password: \"))\n",
        "choice = input(\"Are special characters allowed? \")\n",
        "flag = True if choice[0].lower()==\"y\" else False\n",
        "pswd = []"
      ],
      "metadata": {
        "colab": {
          "base_uri": "https://localhost:8080/"
        },
        "id": "gI5im9IqGBH5",
        "outputId": "4a40284e-21ba-4d3b-bb93-084da303f805"
      },
      "execution_count": 14,
      "outputs": [
        {
          "name": "stdout",
          "output_type": "stream",
          "text": [
            "Welcome to Password Generator. Our passwords start at length 8 characters.\n",
            "Enter the upper limit of the length of the password: 8\n",
            "Are special characters allowed? yes\n"
          ]
        }
      ]
    },
    {
      "cell_type": "code",
      "source": [
        "for i in range(0,size):\n",
        "    if i == 0:\n",
        "        j = random.randint(1,2)\n",
        "        pswd.append(chr(random.randint(ord('a'), ord('z'))) if (j%2==0) else chr(random.randint(ord('A'), ord('Z'))))\n",
        "    else:\n",
        "        if flag:\n",
        "            j = random.randint(1,4)\n",
        "            if j ==1:\n",
        "                pswd.append(chr(random.randint(ord('a'), ord('z'))))\n",
        "            elif j==2:\n",
        "                pswd.append(chr(random.randint(ord('A'), ord('Z'))))\n",
        "            elif j==3:\n",
        "                pswd.append(random.randint(0,9))\n",
        "            else:\n",
        "                sp_index = random.randint(0, num_sp-1)\n",
        "                pswd.append(sp_chars[sp_index])\n",
        "        else:\n",
        "            j = random.randint(1,3)\n",
        "            if j ==1:\n",
        "                pswd.append(chr(random.randint(ord('a'), ord('z'))))\n",
        "            elif j==2:\n",
        "                pswd.append(chr(random.randint(ord('A'), ord('Z'))))\n",
        "            else:\n",
        "                pswd.append(random.randint(0,9))"
      ],
      "metadata": {
        "id": "QYEltx78iIJ2"
      },
      "execution_count": 15,
      "outputs": []
    },
    {
      "cell_type": "code",
      "source": [
        "password = \"\".join(pswd)\n",
        "print(f\"Your generated password is {password}.\\nThank you for using password generator.\")"
      ],
      "metadata": {
        "colab": {
          "base_uri": "https://localhost:8080/",
          "height": 36
        },
        "id": "F_30G_9pkamm",
        "outputId": "65af805a-66d3-4a26-dbf7-24e79488d1a4"
      },
      "execution_count": 18,
      "outputs": [
        {
          "output_type": "execute_result",
          "data": {
            "text/plain": [
              "'TeO#LhI$'"
            ],
            "application/vnd.google.colaboratory.intrinsic+json": {
              "type": "string"
            }
          },
          "metadata": {},
          "execution_count": 18
        }
      ]
    }
  ]
}