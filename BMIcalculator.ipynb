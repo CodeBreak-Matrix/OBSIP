{
  "nbformat": 4,
  "nbformat_minor": 0,
  "metadata": {
    "colab": {
      "provenance": []
    },
    "kernelspec": {
      "name": "python3",
      "display_name": "Python 3"
    },
    "language_info": {
      "name": "python"
    }
  },
  "cells": [
    {
      "cell_type": "code",
      "execution_count": 3,
      "metadata": {
        "colab": {
          "base_uri": "https://localhost:8080/"
        },
        "id": "7GaQkxFPm947",
        "outputId": "5de08412-b88e-4023-9075-ee2afdc96f1a"
      },
      "outputs": [
        {
          "output_type": "stream",
          "name": "stdout",
          "text": [
            "Welcome to BMI Calculator.\n",
            " Here we aim to kickstart your fitness journey by providing accurate BMI calculations.\n",
            "The ranges of BMI indicating your health condition are\n",
            "1. <18.5 Underweight\n",
            "2. 18.5 to 24.9 Normal\n",
            "3. 25 to 29.9 Overweight\n",
            "4. 30 - 39.9 Obese\n",
            "5. >40 Severly obese\n"
          ]
        }
      ],
      "source": [
        "print(\"Welcome to BMI Calculator.\\n Here we aim to kickstart your fitness journey by providing accurate BMI calculations.\\nThe ranges of BMI indicating your health condition are\\n1. <18.5 Underweight\\n2. 18.5 to 24.9 Normal\\n3. 25 to 29.9 Overweight\\n4. 30 - 39.9 Obese\\n5. >40 Severly obese\")"
      ]
    },
    {
      "cell_type": "code",
      "source": [
        "name = input(\"Enter your name: \")\n",
        "print(f\"\\nLet us get started {name}. Enter your height in meters and weight in kilograms below after the prompt.\\n\")\n",
        "k =1\n",
        "while True:\n",
        "    height = float(input(\"Enter height in meters: \"))\n",
        "    weight = float(input(\"Enter weight in kilograms: \"))\n",
        "    if height >5 or height <=0:\n",
        "        print(\"\\nAre you sure you have entered your height correctly?\")\n",
        "        p = input(\"Yes/No\")[0].lower()\n",
        "        if p== \"y\":\n",
        "            break\n",
        "        else:\n",
        "            k = 0\n",
        "    if weight <= 0:\n",
        "        print(\"\\nAre you sure you have entered your weight correctly?\")\n",
        "        q = input(\"Yes/No\")[0].lower()\n",
        "        if q== \"y\":\n",
        "            break\n",
        "        else:\n",
        "            k = 0\n",
        "    if k ==1:\n",
        "        break\n",
        "\n",
        "bmi = (weight)/(height**2)\n",
        "print(f\"\\nYour BMI is {bmi}.\\n\")\n",
        "\n",
        "if bmi < 18.5:\n",
        "    print(\"You are underweight. Please consult a doctor for further help.\")\n",
        "elif bmi >=18.5 and bmi <24.9:\n",
        "    print(\"You are perfectly normal. Please consult a doctor for further help.\")\n",
        "elif bmi >=25 and bmi <29.9:\n",
        "    print(\"You are overweight. Please consult a doctor for further help.\")\n",
        "elif bmi >=30 and bmi <40:\n",
        "    print(\"You are obese. Please consult a doctor for further help.\")\n",
        "elif bmi >40:\n",
        "    print(\"You are severly obese. Please consult a doctor for further help.\")"
      ],
      "metadata": {
        "colab": {
          "base_uri": "https://localhost:8080/"
        },
        "id": "kQkgqrsynx3n",
        "outputId": "d7daed1f-3b73-4a9d-9c05-f5837a3e9480"
      },
      "execution_count": 8,
      "outputs": [
        {
          "output_type": "stream",
          "name": "stdout",
          "text": [
            "Enter your name: Pravaal\n",
            "\n",
            "Let us get started Pravaal. Enter your height in meters and weight in kilograms below after the prompt.\n",
            "\n",
            "Enter height in meters: 1.74\n",
            "Enter weight in kilograms: 95\n",
            "\n",
            "Your BMI is 31.37798916633637.\n",
            "\n",
            "You are obese. Please consult a doctor for further help.\n"
          ]
        }
      ]
    },
    {
      "cell_type": "code",
      "source": [],
      "metadata": {
        "id": "PZHLs3g_qqcd"
      },
      "execution_count": null,
      "outputs": []
    }
  ]
}